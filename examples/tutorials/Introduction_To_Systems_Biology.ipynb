{
 "cells": [
  {
   "cell_type": "markdown",
   "id": "8fa920f1",
   "metadata": {},
   "source": [
    "# Introduction To Systems Biology Using PySB\n",
    "\n",
    "Author: Nathan Wood - WEB: [www.nwoodweb.xyz](https://www.nwoodweb.xyz) \n",
    "\n",
    "## What is Systems Biology?\n",
    "\n",
    "Systems Biology is an interdisciplinary biology field that seeks to take a more hollistic approach to gaining insight into biological function by combining experimental data with mathematical models, most commonly in the form of differential equations. Mathematical models that employ both ordinary and partial differentials and their systems allow for a myriad of biological processes to be experimented on computationally. Systems biology allows us to gain into how organs, tissues, and cells cooperate in a mechanistic sense, down to the genes expressed.\n",
    "\n",
    "<img src=\"https://isbscience.org/wp-content/uploads/network-medicine-1024x538.jpg\" \n",
    "     alt=\"Systems Biology, Courtesy Institute of Systems Biology\" width=\"450\"/>"
   ]
  },
  {
   "cell_type": "code",
   "execution_count": null,
   "id": "e23ce86c",
   "metadata": {},
   "outputs": [],
   "source": []
  },
  {
   "cell_type": "markdown",
   "id": "c45e7362",
   "metadata": {},
   "source": [
    "## Introduction to PySB\n",
    "\n",
    "### Installation\n",
    "Installing pysb to your user environment is as easy as using ```pip```, though in some cases one may want to use ```pip install --user``` instead.\n",
    "\n",
    "NOTE: Pysb may require BioNetGen for model analysis, which is preferably installed via ```conda```"
   ]
  },
  {
   "cell_type": "code",
   "execution_count": 368,
   "id": "19aa2e2c",
   "metadata": {},
   "outputs": [
    {
     "name": "stdout",
     "output_type": "stream",
     "text": [
      "Requirement already satisfied: pysb in /home/woodn/miniconda3/envs/deepchem/lib/python3.8/site-packages (1.13.2)\n",
      "Requirement already satisfied: numpy in /home/woodn/miniconda3/envs/deepchem/lib/python3.8/site-packages/numpy-1.23.0rc3-py3.8-linux-x86_64.egg (from pysb) (1.23.0rc3)\n",
      "Requirement already satisfied: scipy>=1.1 in /home/woodn/miniconda3/envs/deepchem/lib/python3.8/site-packages/scipy-1.8.1-py3.8-linux-x86_64.egg (from pysb) (1.8.1)\n",
      "Requirement already satisfied: networkx in /home/woodn/miniconda3/envs/deepchem/lib/python3.8/site-packages (from pysb) (2.8.4)\n",
      "Requirement already satisfied: sympy>=1.6 in /home/woodn/miniconda3/envs/deepchem/lib/python3.8/site-packages (from pysb) (1.10.1)\n",
      "Requirement already satisfied: mpmath>=0.19 in /home/woodn/miniconda3/envs/deepchem/lib/python3.8/site-packages (from sympy>=1.6->pysb) (1.2.1)\n",
      "Collecting package metadata (current_repodata.json): ...working... done\n",
      "Solving environment: ...working... done\n",
      "\n",
      "# All requested packages already installed.\n",
      "\n"
     ]
    }
   ],
   "source": [
    "!pip install pysb \n",
    "!conda install -y -q bionetgen # install bionetgen into conda environment, no stdout and assume yes to all prompt"
   ]
  },
  {
   "cell_type": "markdown",
   "id": "31c3fda7",
   "metadata": {},
   "source": [
    "All PySB simulations must begin with the following:"
   ]
  },
  {
   "cell_type": "code",
   "execution_count": 399,
   "id": "74ba1185",
   "metadata": {},
   "outputs": [
    {
     "data": {
      "text/plain": [
       "<Model '_interactive_' (monomers: 0, rules: 0, parameters: 0, expressions: 0, compartments: 0) at 0x7efcc487cfd0>"
      ]
     },
     "execution_count": 399,
     "metadata": {},
     "output_type": "execute_result"
    }
   ],
   "source": [
    "from pysb import *\n",
    "from pysb.macros import * \n",
    "Model()"
   ]
  },
  {
   "cell_type": "markdown",
   "id": "2bdd040c",
   "metadata": {},
   "source": [
    "`from pysb import *` loads the PySB module with all of its modules \n",
    "\n",
    "\n",
    "`Model()` initializes the model that we will be using. "
   ]
  },
  {
   "cell_type": "markdown",
   "id": "55fae15e",
   "metadata": {},
   "source": [
    "### Monomers and Annotations\n",
    "In PySB, monomers represent the smallest objects in the observable system: proteins and other biomolecules, as well as biochemically relevant small molecules. Each acting element in the system needs to be initialized as a monomer. \n",
    "\n",
    "Annotations "
   ]
  },
  {
   "cell_type": "code",
   "execution_count": 400,
   "id": "dc7fd7ff",
   "metadata": {},
   "outputs": [
    {
     "data": {
      "text/plain": [
       "Monomer('coo', ['ligand', 'state'], {'state': ['free', 'bound', 'hydrate']})"
      ]
     },
     "execution_count": 400,
     "metadata": {},
     "output_type": "execute_result"
    }
   ],
   "source": [
    "Monomer('carbanh', ['binding1'])\n",
    "Monomer('coo', ['ligand','state'],\n",
    "        {'state': ['free', 'bound','hydrate']})\n"
   ]
  },
  {
   "cell_type": "markdown",
   "id": "63766cb9",
   "metadata": {},
   "source": [
    "### Parameters\n",
    "In PySB, specific constants are represented as parameters. Parameters are strictly numerical values and their specified names. Parameters include data such as reaction rates. "
   ]
  },
  {
   "cell_type": "code",
   "execution_count": 401,
   "id": "77e79cac",
   "metadata": {},
   "outputs": [
    {
     "data": {
      "text/latex": [
       "$\\displaystyle rel$"
      ],
      "text/plain": [
       "Parameter('rel', 0.037)"
      ]
     },
     "execution_count": 401,
     "metadata": {},
     "output_type": "execute_result"
    }
   ],
   "source": [
    "Parameter('forwardRateBind', .037)\n",
    "Parameter('reverseRateBind', .00001)\n",
    "Parameter('rel', .037)"
   ]
  },
  {
   "cell_type": "markdown",
   "id": "4a9175e1",
   "metadata": {},
   "source": [
    "### Rules\n",
    "Rules define chemical interactions between reactants, products, and their catalytic enzymes. Rules are quantified by parameters, mainly reaction rates.\n",
    "\n",
    "\n",
    "Rules have a specific set of operators \n",
    "\n",
    "    - + represents the formation of complexes between monomers\n",
    "    - | represents reversable reactions\n",
    "    - >> represents irreversible reaction, that procede forward only\n",
    "    - % represents binding between monomers\n",
    "\n"
   ]
  },
  {
   "cell_type": "code",
   "execution_count": 402,
   "id": "afe41af6",
   "metadata": {},
   "outputs": [
    {
     "data": {
      "text/plain": [
       "Rule('dissociate', carbanh(binding1=1) % coo(ligand=1, state='bound') >> carbanh(binding1=None) + coo(ligand=None, state='hydrate'), rel)"
      ]
     },
     "execution_count": 402,
     "metadata": {},
     "output_type": "execute_result"
    }
   ],
   "source": [
    "Rule('cooHydrate', carbanh(binding1=None) + coo(state='free', ligand=None) \n",
    "     >> carbanh(binding1=1) % coo(state='bound',ligand=1),forwardRateBind)\n",
    "Rule('dissociate', carbanh(binding1=1) % coo(state='bound', ligand=1) \n",
    "     >> carbanh(binding1=None) + coo(state='hydrate',ligand=None), rel)"
   ]
  },
  {
   "cell_type": "code",
   "execution_count": null,
   "id": "1eb1f393",
   "metadata": {},
   "outputs": [],
   "source": []
  },
  {
   "cell_type": "code",
   "execution_count": 403,
   "id": "06be2c0a",
   "metadata": {},
   "outputs": [
    {
     "data": {
      "text/plain": [
       "Initial(coo(ligand=None, state='hydrate'), carbonic_0)"
      ]
     },
     "execution_count": 403,
     "metadata": {},
     "output_type": "execute_result"
    }
   ],
   "source": [
    "c = 1.5e-3 * 6.22e23 \n",
    "Parameter('Hemo_0', 100)\n",
    "Parameter('coo_0', c)\n",
    "Parameter('carbonic_0',0)\n",
    "Initial(carbanh(binding1=None), Hemo_0)\n",
    "#Initial(hemoglobin(bind1=None), HemoBound_0)\n",
    "Initial(coo(ligand=None, state='free'), coo_0)\n",
    "Initial(coo(ligand=None, state='hydrate'), carbonic_0)"
   ]
  },
  {
   "cell_type": "markdown",
   "id": "49c81aad",
   "metadata": {},
   "source": [
    "### Observables \n",
    "\n",
    "In order to have data to make sense of our computational models, we need to define observables. Observables can include:\n",
    "\n",
    "    - Output compounds, such as Carbonate produced as the result of Carbon Dioxide being turned over by Carbonic Anhydrase\n",
    "    "
   ]
  },
  {
   "cell_type": "code",
   "execution_count": 404,
   "id": "2dbdb8d4",
   "metadata": {},
   "outputs": [
    {
     "data": {
      "text/latex": [
       "$\\displaystyle product$"
      ],
      "text/plain": [
       "Observable('product', coo(ligand=None, state='hydrate'))"
      ]
     },
     "execution_count": 404,
     "metadata": {},
     "output_type": "execute_result"
    }
   ],
   "source": [
    "Observable('totalEnzyme', carbanh())\n",
    "Observable('free', carbanh(binding1=None))\n",
    "Observable('substrate', coo(ligand=None, state='free'))\n",
    "Observable('product', coo(ligand=None, state='hydrate'))\n"
   ]
  },
  {
   "cell_type": "code",
   "execution_count": 455,
   "id": "dcf6aea9",
   "metadata": {},
   "outputs": [
    {
     "name": "stderr",
     "output_type": "stream",
     "text": [
      "2022-06-29 23:21:55.411 - pysb.simulator.scipyode - WARNING - [_interactive_] This system of ODEs will be evaluated in pure Python. This may be slow for large models. We recommend installing the 'cython' package for compiling the ODEs to C code. This warning can be suppressed by specifying compiler='python'.\n"
     ]
    },
    {
     "data": {
      "image/png": "[encoded data removed]",
      "text/plain": [
       "<Figure size 432x288 with 1 Axes>"
      ]
     },
     "metadata": {
      "needs_background": "light"
     },
     "output_type": "display_data"
    }
   ],
   "source": [
    "import numpy as np\n",
    "from pysb.integrate import odesolve\n",
    "from pysb.simulator import ScipyOdeSimulator\n",
    "import matplotlib.pyplot as plt\n",
    "\n",
    "\n",
    "tspan = np.linspace(0, 100, 100)\n",
    "y = ScipyOdeSimulator(model, tspan).run()\n",
    "\n",
    "#plt.plot(tspan, y['substrate'], label=\"substrate\")\n",
    "#plt.plot(tspan, y['totalEnzyme'], label=\"e_total\")\n",
    "#plt.plot(tspan, y['free'], label=\"free\")\n",
    "#plt.plot(tspan,np.log10(y['substrate']), label=\"substrate\")\n",
    "plt.plot(tspan, np.log10(y.observables['product']), label=\"product\")\n",
    "#plt.plot(tspan, y['totalBoundEnzyme'], label=\"e_free\")\n",
    "plt.xlabel('time')\n",
    "plt.ylabel('population')\n",
    "plt.ylim(0,3)\n",
    "plt.legend(loc=0)\n",
    "plt.show()"
   ]
  },
  {
   "cell_type": "markdown",
   "id": "bf987496",
   "metadata": {},
   "source": [
    "#### All Previous Work Combined\n"
   ]
  },
  {
   "cell_type": "code",
   "execution_count": 445,
   "id": "a06af19b",
   "metadata": {},
   "outputs": [
    {
     "name": "stderr",
     "output_type": "stream",
     "text": [
      "2022-06-29 23:10:45.596 - pysb.simulator.scipyode - WARNING - [_interactive_] This system of ODEs will be evaluated in pure Python. This may be slow for large models. We recommend installing the 'cython' package for compiling the ODEs to C code. This warning can be suppressed by specifying compiler='python'.\n"
     ]
    },
    {
     "data": {
      "image/png": "[encoded data removed]",
      "text/plain": [
       "<Figure size 432x288 with 1 Axes>"
      ]
     },
     "metadata": {
      "needs_background": "light"
     },
     "output_type": "display_data"
    }
   ],
   "source": [
    "from pysb.macros import catalyze_state\n",
    "Model()\n",
    "Monomer('carbanh', ['binding1'])\n",
    "Monomer('coo', ['ligand','state'],\n",
    "        {'state': ['free','hydrate']})\n",
    "Parameter('forwardRateBind', .037)\n",
    "Parameter('reverseRateBind', .00001)\n",
    "Parameter('rel', .037)\n",
    "Rule('cooHydrate', carbanh(binding1=None) + coo(state='free', ligand=None) \n",
    "     >> carbanh(binding1=1) % coo(state='hydrate',ligand=1),forwardRateBind)\n",
    "Rule('dissociate', carbanh(binding1=1) % coo(state='hydrate', ligand=1) \n",
    "     >> carbanh(binding1=None) + coo(state='hydrate',ligand=None), rel)\n",
    "\n",
    "c = 1.5e-3 * 6.22e23 \n",
    "Parameter('Hemo_0', 100)\n",
    "Parameter('coo_0', c)\n",
    "Parameter('carbonic_0',0)\n",
    "Initial(carbanh(binding1=None), Hemo_0)\n",
    "#Initial(hemoglobin(bind1=None), HemoBound_0)\n",
    "Initial(coo(ligand=None, state='free'), coo_0)\n",
    "Initial(coo(ligand=None, state='hydrate'), carbonic_0)\n",
    "\n",
    "Observable('totalEnzyme', carbanh())\n",
    "Observable('free', carbanh(binding1=None))\n",
    "Observable('substrate', coo(ligand=None, state='free'))\n",
    "Observable('product', coo(ligand=None, state='hydrate'))\n",
    "\n",
    "tspan = np.linspace(0, 1000, 1000)\n",
    "y = odesolve(model, tspan)\n",
    "\n",
    "#plt.plot(tspan, y['substrate'], label=\"substrate\")\n",
    "#plt.plot(tspan, y['totalEnzyme'], label=\"e_total\")\n",
    "#plt.plot(tspan, y['free'], label=\"free\")\n",
    "#plt.plot(tspan,np.log10(y['substrate']), label=\"substrate\")\n",
    "plt.plot(tspan, np.log10(y['product']), label=\"product\")\n",
    "#plt.plot(tspan, y['totalBoundEnzyme'], label=\"e_free\")\n",
    "plt.xlabel('time')\n",
    "plt.ylabel('population')\n",
    "plt.ylim(0,7)\n",
    "plt.legend(loc=0)\n",
    "plt.show()\n"
   ]
  },
  {
   "cell_type": "markdown",
   "id": "e19690d0",
   "metadata": {},
   "source": [
    "### Modeling Effects of Inhibitors on Michaelis Menten Kinetics "
   ]
  },
  {
   "cell_type": "markdown",
   "id": "6e3a55de",
   "metadata": {},
   "source": [
    "<b>This model has been modified and was originally from [kinase_cascade.py](https://github.com/pysb/pysb/blob/master/pysb/examples/kinase_cascade.py) and [run_kinase_cascade.py](https://github.com/pysb/pysb/blob/master/pysb/examples/run_kinase_cascade.py) from the original PySB [Github repository](https://github.com/pysb)</b>"
   ]
  },
  {
   "cell_type": "code",
   "execution_count": 456,
   "id": "3aec3b93",
   "metadata": {},
   "outputs": [
    {
     "name": "stdout",
     "output_type": "stream",
     "text": [
      "Automatically created module for IPython interactive environment \n",
      " <Model '_interactive_' (monomers: 6, rules: 20, parameters: 36, expressions: 0, compartments: 0) at 0x7efcc4cbae50>\n",
      "\n",
      "NOTE: This model code is designed to be imported and programatically\n",
      "manipulated, not executed directly. The above output is merely a\n",
      "diagnostic aid.\n",
      "Simulating...\n"
     ]
    },
    {
     "name": "stderr",
     "output_type": "stream",
     "text": [
      "2022-06-30 13:01:07.373 - pysb.simulator.scipyode - WARNING - [_interactive_] This system of ODEs will be evaluated in pure Python. This may be slow for large models. We recommend installing the 'cython' package for compiling the ODEs to C code. This warning can be suppressed by specifying compiler='python'.\n"
     ]
    },
    {
     "data": {
      "image/png": "[encoded data removed]",
      "text/plain": [
       "<Figure size 432x288 with 1 Axes>"
      ]
     },
     "metadata": {
      "needs_background": "light"
     },
     "output_type": "display_data"
    }
   ],
   "source": [
    "\n",
    "Model()\n",
    "\n",
    "Monomer('Ras', ['k'])\n",
    "Annotation(Ras, 'http://identifiers.org/uniprot/P01116', 'hasPart')\n",
    "Annotation(Ras, 'http://identifiers.org/uniprot/P01112', 'hasPart')\n",
    "Annotation(Ras, 'http://identifiers.org/uniprot/P01111', 'hasPart')\n",
    "Monomer('Raf', ['s', 'k'], {'s': ['u', 'p']})\n",
    "Annotation(Raf, 'http://identifiers.org/uniprot/P15056', 'hasPart')\n",
    "Annotation(Raf, 'http://identifiers.org/uniprot/P04049', 'hasPart')\n",
    "Annotation(Raf, 'http://identifiers.org/uniprot/P10398', 'hasPart')\n",
    "Monomer('MEK', ['s218', 's222', 'k'], {'s218': ['u', 'p'], 's222': ['u', 'p']})\n",
    "Annotation(MEK, 'http://identifiers.org/uniprot/Q02750', 'hasPart')\n",
    "Annotation(MEK, 'http://identifiers.org/uniprot/P36507', 'hasPart')\n",
    "Monomer('ERK', ['t185', 'y187'], {'t185': ['u', 'p'], 'y187': ['u', 'p']})\n",
    "Annotation(ERK, 'http://identifiers.org/uniprot/P27361', 'hasPart')\n",
    "Annotation(ERK, 'http://identifiers.org/uniprot/P28482', 'hasPart')\n",
    "Monomer('PP2A', ['ppt'])\n",
    "Annotation(PP2A, 'http://identifiers.org/mesh/24544')\n",
    "Monomer('MKP', ['ppt'])\n",
    "Annotation(MKP, 'http://identifiers.org/mesh/24536')\n",
    "\n",
    "# Use generic rates for forward/reverse binding and kinase/phosphatase catalysis\n",
    "kf_bind = 1e-5\n",
    "kr_bind = 1e-1\n",
    "kcat_phos = 1e-1\n",
    "kcat_dephos = 3e-3\n",
    "\n",
    "# Build handy rate \"sets\"\n",
    "klist_bind = [kf_bind, kr_bind]\n",
    "klist_phos = klist_bind + [kcat_phos]\n",
    "klist_dephos = klist_bind + [kcat_dephos]\n",
    "\n",
    "def mapk_single(kinase, pptase, substrate, site):\n",
    "    \"\"\"Kinase phos/dephosphorylation.\"\"\"\n",
    "    ppt_substrate = substrate()\n",
    "    if 'k' in ppt_substrate.monomer.sites:\n",
    "        # Ensure substrates which are themselves kinases don't get\n",
    "        # dephosphorylated while they are bound to *their* substrate.\n",
    "        ppt_substrate = ppt_substrate(k=None)\n",
    "    components = catalyze_state(kinase, 'k',\n",
    "                                substrate, site, site, 'u', 'p',\n",
    "                                klist_phos)\n",
    "    components |= catalyze_state(pptase, 'ppt',\n",
    "                                 ppt_substrate, site, site, 'p', 'u',\n",
    "                                 klist_dephos)\n",
    "    return components\n",
    "\n",
    "def mapk_double(kinase, pptase, substrate, site1, site2):\n",
    "    \"\"\"Distributive + ordered double kinase phos/dephosphorylation.\"\"\"\n",
    "    components = mapk_single(kinase, pptase, substrate({site2: 'u'}), site1)\n",
    "    components |= mapk_single(kinase, pptase, substrate({site1: 'p'}), site2)\n",
    "    return components\n",
    "\n",
    "# Ras-Raf-MEK-ERK kinase cascade\n",
    "mapk_single(Ras, PP2A, Raf, 's')\n",
    "mapk_double(Raf(s='p'), PP2A, MEK, 's218', 's222')\n",
    "mapk_double(MEK(s218='p', s222='p'), MKP, ERK, 't185', 'y187')\n",
    "\n",
    "Initial(Ras(k=None), Parameter('Ras_0', 6e4))\n",
    "Initial(Raf(s='u', k=None), Parameter('Raf_0', 7e4))\n",
    "Initial(MEK(s218='u', s222='u', k=None), Parameter('MEK_0', 3e6))\n",
    "Initial(ERK(t185='u', y187='u'), Parameter('ERK_0', 7e5))\n",
    "Initial(PP2A(ppt=None), Parameter('PP2A_0', 2e5))\n",
    "Initial(MKP(ppt=None), Parameter('MKP_0', 1.7e4))\n",
    "\n",
    "Observable('ppMEK', MEK(s218='p', s222='p'))\n",
    "Observable('ppERK', ERK(t185='p', y187='p'))\n",
    "\n",
    "\n",
    "if __name__ == '__main__':\n",
    "    print(__doc__, \"\\n\", model)\n",
    "    print(\"\"\"\n",
    "NOTE: This model code is designed to be imported and programatically\n",
    "manipulated, not executed directly. The above output is merely a\n",
    "diagnostic aid.\"\"\")\n",
    "    \n",
    "    \n",
    "tspan = np.linspace(0, 1200)\n",
    "print(\"Simulating...\")\n",
    "yfull = odesolve(model,tspan)\n",
    "plt.plot(tspan, yfull['ppMEK'], label='ppMEK')\n",
    "plt.plot(tspan, yfull['ppERK'], label='ppERK')\n",
    "plt.legend(loc='upper left')\n",
    "plt.show()"
   ]
  },
  {
   "cell_type": "code",
   "execution_count": null,
   "id": "751e7b61",
   "metadata": {},
   "outputs": [],
   "source": []
  },
  {
   "cell_type": "markdown",
   "id": "d7a12173",
   "metadata": {},
   "source": []
  }
 ],
 "metadata": {
  "kernelspec": {
   "display_name": "Python 3 (ipykernel)",
   "language": "python",
   "name": "python3"
  },
  "language_info": {
   "codemirror_mode": {
    "name": "ipython",
    "version": 3
   },
   "file_extension": ".py",
   "mimetype": "text/x-python",
   "name": "python",
   "nbconvert_exporter": "python",
   "pygments_lexer": "ipython3",
   "version": "3.8.13"
  }
 },
 "nbformat": 4,
 "nbformat_minor": 5
}
